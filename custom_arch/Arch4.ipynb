{
 "cells": [
  {
   "cell_type": "code",
   "execution_count": 1,
   "metadata": {},
   "outputs": [
    {
     "name": "stdout",
     "output_type": "stream",
     "text": [
      "Training set size: 593242\n",
      "Validation set size: 104690\n",
      "Test set size: 116323\n"
     ]
    },
    {
     "name": "stderr",
     "output_type": "stream",
     "text": [
      "Training Epoch 1: 100%|██████████| 580/580 [03:26<00:00,  2.81it/s, accuracy=0.803, loss=0.681]\n",
      "Validating: 100%|██████████| 103/103 [00:17<00:00,  5.74it/s, accuracy=0.85, val_loss=0.448] \n"
     ]
    },
    {
     "name": "stdout",
     "output_type": "stream",
     "text": [
      "Epoch 1/10, Train Loss: 0.6808, Val Loss: 0.4479, Train Acc: 0.8033, Val Acc: 0.8498, Train Prec: 0.7846, Val Prec: 0.8369, Train F1: 0.7848, Val F1: 0.8362\n"
     ]
    },
    {
     "name": "stderr",
     "output_type": "stream",
     "text": [
      "Training Epoch 2: 100%|██████████| 580/580 [03:18<00:00,  2.92it/s, accuracy=0.861, loss=0.413]\n",
      "Validating: 100%|██████████| 103/103 [00:18<00:00,  5.47it/s, accuracy=0.86, val_loss=0.414] \n"
     ]
    },
    {
     "name": "stdout",
     "output_type": "stream",
     "text": [
      "Epoch 2/10, Train Loss: 0.4127, Val Loss: 0.4142, Train Acc: 0.8608, Val Acc: 0.8605, Train Prec: 0.8485, Val Prec: 0.8459, Train F1: 0.8461, Val F1: 0.8460\n"
     ]
    },
    {
     "name": "stderr",
     "output_type": "stream",
     "text": [
      "Training Epoch 3: 100%|██████████| 580/580 [03:18<00:00,  2.92it/s, accuracy=0.867, loss=0.389]\n",
      "Validating: 100%|██████████| 103/103 [00:17<00:00,  5.76it/s, accuracy=0.865, val_loss=0.4]  \n"
     ]
    },
    {
     "name": "stdout",
     "output_type": "stream",
     "text": [
      "Epoch 3/10, Train Loss: 0.3894, Val Loss: 0.3995, Train Acc: 0.8668, Val Acc: 0.8654, Train Prec: 0.8559, Val Prec: 0.8546, Train F1: 0.8531, Val F1: 0.8484\n"
     ]
    },
    {
     "name": "stderr",
     "output_type": "stream",
     "text": [
      "Training Epoch 4: 100%|██████████| 580/580 [03:04<00:00,  3.15it/s, accuracy=0.87, loss=0.376] \n",
      "Validating: 100%|██████████| 103/103 [00:18<00:00,  5.46it/s, accuracy=0.863, val_loss=0.401]\n"
     ]
    },
    {
     "name": "stdout",
     "output_type": "stream",
     "text": [
      "Epoch 4/10, Train Loss: 0.3760, Val Loss: 0.4009, Train Acc: 0.8703, Val Acc: 0.8629, Train Prec: 0.8608, Val Prec: 0.8554, Train F1: 0.8572, Val F1: 0.8470\n"
     ]
    },
    {
     "name": "stderr",
     "output_type": "stream",
     "text": [
      "Training Epoch 5: 100%|██████████| 580/580 [03:13<00:00,  3.00it/s, accuracy=0.873, loss=0.366]\n",
      "Validating: 100%|██████████| 103/103 [00:18<00:00,  5.72it/s, accuracy=0.864, val_loss=0.395]\n"
     ]
    },
    {
     "name": "stdout",
     "output_type": "stream",
     "text": [
      "Epoch 5/10, Train Loss: 0.3661, Val Loss: 0.3951, Train Acc: 0.8728, Val Acc: 0.8641, Train Prec: 0.8625, Val Prec: 0.8566, Train F1: 0.8602, Val F1: 0.8517\n"
     ]
    },
    {
     "name": "stderr",
     "output_type": "stream",
     "text": [
      "Training Epoch 6: 100%|██████████| 580/580 [03:21<00:00,  2.88it/s, accuracy=0.874, loss=0.359]\n",
      "Validating: 100%|██████████| 103/103 [00:20<00:00,  4.98it/s, accuracy=0.865, val_loss=0.393]\n"
     ]
    },
    {
     "name": "stdout",
     "output_type": "stream",
     "text": [
      "Epoch 6/10, Train Loss: 0.3592, Val Loss: 0.3932, Train Acc: 0.8745, Val Acc: 0.8653, Train Prec: 0.8658, Val Prec: 0.8584, Train F1: 0.8624, Val F1: 0.8519\n"
     ]
    },
    {
     "name": "stderr",
     "output_type": "stream",
     "text": [
      "Training Epoch 7: 100%|██████████| 580/580 [03:15<00:00,  2.97it/s, accuracy=0.876, loss=0.353]\n",
      "Validating: 100%|██████████| 103/103 [00:18<00:00,  5.63it/s, accuracy=0.866, val_loss=0.391]\n"
     ]
    },
    {
     "name": "stdout",
     "output_type": "stream",
     "text": [
      "Epoch 7/10, Train Loss: 0.3532, Val Loss: 0.3906, Train Acc: 0.8760, Val Acc: 0.8661, Train Prec: 0.8673, Val Prec: 0.8603, Train F1: 0.8643, Val F1: 0.8518\n"
     ]
    },
    {
     "name": "stderr",
     "output_type": "stream",
     "text": [
      "Training Epoch 8: 100%|██████████| 580/580 [03:17<00:00,  2.94it/s, accuracy=0.877, loss=0.347]\n",
      "Validating: 100%|██████████| 103/103 [00:19<00:00,  5.41it/s, accuracy=0.867, val_loss=0.39] \n"
     ]
    },
    {
     "name": "stdout",
     "output_type": "stream",
     "text": [
      "Epoch 8/10, Train Loss: 0.3475, Val Loss: 0.3901, Train Acc: 0.8775, Val Acc: 0.8669, Train Prec: 0.8693, Val Prec: 0.8593, Train F1: 0.8660, Val F1: 0.8547\n"
     ]
    },
    {
     "name": "stderr",
     "output_type": "stream",
     "text": [
      "Training Epoch 9: 100%|██████████| 580/580 [03:16<00:00,  2.96it/s, accuracy=0.879, loss=0.343]\n",
      "Validating: 100%|██████████| 103/103 [00:18<00:00,  5.70it/s, accuracy=0.869, val_loss=0.388]\n"
     ]
    },
    {
     "name": "stdout",
     "output_type": "stream",
     "text": [
      "Epoch 9/10, Train Loss: 0.3432, Val Loss: 0.3875, Train Acc: 0.8791, Val Acc: 0.8689, Train Prec: 0.8713, Val Prec: 0.8637, Train F1: 0.8679, Val F1: 0.8564\n"
     ]
    },
    {
     "name": "stderr",
     "output_type": "stream",
     "text": [
      "Training Epoch 10: 100%|██████████| 580/580 [03:17<00:00,  2.94it/s, accuracy=0.88, loss=0.339] \n",
      "Validating: 100%|██████████| 103/103 [00:18<00:00,  5.60it/s, accuracy=0.867, val_loss=0.388]\n"
     ]
    },
    {
     "name": "stdout",
     "output_type": "stream",
     "text": [
      "Epoch 10/10, Train Loss: 0.3387, Val Loss: 0.3880, Train Acc: 0.8799, Val Acc: 0.8674, Train Prec: 0.8724, Val Prec: 0.8622, Train F1: 0.8690, Val F1: 0.8553\n"
     ]
    },
    {
     "name": "stderr",
     "output_type": "stream",
     "text": [
      "Testing: 100%|██████████| 114/114 [00:19<00:00,  5.75it/s, accuracy=0.869, loss=0.382]\n"
     ]
    },
    {
     "name": "stdout",
     "output_type": "stream",
     "text": [
      "Test Loss: 0.3825, Accuracy: 0.87%, Precision: 0.86, F1 Score: 0.86\n"
     ]
    }
   ],
   "source": [
    "import torch\n",
    "from tqdm import tqdm\n",
    "import torch.nn as nn\n",
    "import torch.optim as optim\n",
    "from torch.utils.data import Dataset, DataLoader\n",
    "import torchvision.models as models\n",
    "from torchvision.models import ResNet18_Weights\n",
    "import torchvision.transforms as transforms\n",
    "from torchvision.datasets import EMNIST\n",
    "from torch.utils.data import random_split\n",
    "from sklearn.metrics import precision_score, f1_score\n",
    "import torch.nn.functional as F\n",
    "from archs import *\n",
    "\n",
    "class ModifiedCrossEntropyLoss(nn.Module):\n",
    "    def __init__(self, penalty_weight=0.1):\n",
    "        super(ModifiedCrossEntropyLoss, self).__init__()\n",
    "        self.penalty_weight = penalty_weight\n",
    "\n",
    "    def forward(self, inputs, targets):\n",
    "        # Calculate probabilities using softmax\n",
    "        probs = F.softmax(inputs, dim=1)  # Get probabilities from raw logits\n",
    "\n",
    "        # Standard cross-entropy loss for the true class\n",
    "        loss_ce = torch.log(probs[range(targets.size(0)), targets] + 1e-12).mean()\n",
    "\n",
    "        # Calculate the penalty for all classes except the true class\n",
    "        penalty = self.penalty_weight * (torch.sum(torch.log(1 - probs + 1e-12), dim=1) - \n",
    "                                          torch.log(1 - probs[range(targets.size(0)), targets] + 1e-12))\n",
    "\n",
    "        # Final loss\n",
    "        total_loss = loss_ce + penalty.mean()\n",
    "        return -total_loss\n",
    "\n",
    "class ImageClassifier:\n",
    "    def __init__(self, network, optimizer, criterion, l2_lambda=0.01):\n",
    "        self.network = network\n",
    "        self.optimizer = optimizer\n",
    "        self.criterion = criterion\n",
    "        self.l2_lambda = l2_lambda\n",
    "        self.device = torch.device('cuda' if torch.cuda.is_available() else 'cpu')\n",
    "        self.network.to(self.device)\n",
    "    \n",
    "    def _regularize(self, network, l2_lambda):\n",
    "        # Compute L2 regularization\n",
    "        l2_reg = 0.0\n",
    "        for param in network.parameters():\n",
    "            l2_reg += torch.norm(param, 2)\n",
    "        return l2_lambda * l2_reg\n",
    "            \n",
    "    def compute_loss(self, outputs, targets, l2_lambda=0.01, regularize = False):\n",
    "        # Compute the cross-entropy loss\n",
    "        ce_loss = self.criterion(outputs, targets)\n",
    "        \n",
    "        if regularize:\n",
    "            # Compute regularization loss\n",
    "            l2_reg = self._regularize(self.network, l2_lambda)\n",
    "            \n",
    "            return ce_loss + l2_reg\n",
    "\n",
    "        return ce_loss\n",
    "    \n",
    "    def compute_metrics(self, preds, targets):\n",
    "        \"\"\"Helper function to compute accuracy, precision, and F1 score.\"\"\"\n",
    "        # Ensure preds are already in label form (if not already converted)\n",
    "        if preds.dim() > 1:  # Check if preds need reduction\n",
    "            preds = preds.argmax(dim=1)  # Get the predicted labels\n",
    "        \n",
    "        preds = preds.cpu().numpy()  # Convert predictions to NumPy\n",
    "        targets = targets.cpu().numpy()  # Convert true labels to NumPy\n",
    "\n",
    "        # Compute accuracy\n",
    "        accuracy = (preds == targets).mean()\n",
    "\n",
    "        # Compute precision and F1 score using scikit-learn\n",
    "        precision = precision_score(targets, preds, average='weighted', zero_division=0)\n",
    "        f1 = f1_score(targets, preds, average='weighted')\n",
    "\n",
    "        return accuracy, precision, f1\n",
    "\n",
    "    def train(self, train_loader, val_loader, n_epochs=10, patience=3):\n",
    "        best_val_loss = float('inf')\n",
    "        current_patience = 0\n",
    "        \n",
    "        for epoch in range(n_epochs):\n",
    "            # Train\n",
    "            self.network.train()\n",
    "            train_loss = 0.0\n",
    "            all_preds = []\n",
    "            all_targets = []\n",
    "            \n",
    "            # Use tqdm for progress bar and set dynamic description\n",
    "            train_bar = tqdm(enumerate(train_loader), total=len(train_loader), desc=f'Training Epoch {epoch + 1}')\n",
    "            for batch_idx, (data, target) in train_bar:\n",
    "                data, target = data.to(self.device), target.to(self.device)\n",
    "                self.optimizer.zero_grad()\n",
    "                \n",
    "                # Forward pass\n",
    "                outputs = self.network(data)\n",
    "                \n",
    "                # Compute loss\n",
    "                loss = self.compute_loss(outputs, target)\n",
    "                loss.backward()\n",
    "                self.optimizer.step()\n",
    "                \n",
    "                train_loss += loss.item()\n",
    "\n",
    "                # Gather predictions and true labels for accuracy/metrics calculation\n",
    "                preds = outputs.argmax(dim=1)\n",
    "                all_preds.append(preds)\n",
    "                all_targets.append(target)\n",
    "                \n",
    "                # Update progress bar with loss and accuracy\n",
    "                current_accuracy, _, _ = self.compute_metrics(torch.cat(all_preds), torch.cat(all_targets))\n",
    "                train_bar.set_postfix(loss=train_loss / (batch_idx + 1), accuracy=current_accuracy)\n",
    "\n",
    "            # Calculate final metrics for training\n",
    "            all_preds = torch.cat(all_preds)\n",
    "            all_targets = torch.cat(all_targets)\n",
    "            train_accuracy, train_precision, train_f1 = self.compute_metrics(all_preds, all_targets)\n",
    "            \n",
    "            # Validate\n",
    "            self.network.eval()\n",
    "            val_loss = 0.0\n",
    "            val_preds = []\n",
    "            val_targets = []\n",
    "            \n",
    "            # Use tqdm for validation progress bar\n",
    "            val_bar = tqdm(val_loader, desc='Validating')\n",
    "            with torch.no_grad():\n",
    "                for data, target in val_bar:\n",
    "                    data, target = data.to(self.device), target.to(self.device)\n",
    "                    \n",
    "                    # Forward pass\n",
    "                    outputs = self.network(data)\n",
    "                    \n",
    "                    # Compute loss\n",
    "                    loss = self.compute_loss(outputs, target)\n",
    "                    val_loss += loss.item()\n",
    "                    \n",
    "                    # Gather predictions and true labels\n",
    "                    preds = outputs.argmax(dim=1)\n",
    "                    val_preds.append(preds)\n",
    "                    val_targets.append(target)\n",
    "\n",
    "                    # Update progress bar with validation loss and accuracy\n",
    "                    val_accuracy, _, _ = self.compute_metrics(torch.cat(val_preds), torch.cat(val_targets))\n",
    "                    val_bar.set_postfix(val_loss=val_loss / len(val_loader), accuracy=val_accuracy)\n",
    "\n",
    "            # Calculate final validation metrics\n",
    "            val_preds = torch.cat(val_preds)\n",
    "            val_targets = torch.cat(val_targets)\n",
    "            val_accuracy, val_precision, val_f1 = self.compute_metrics(val_preds, val_targets)\n",
    "\n",
    "            # Print epoch statistics\n",
    "            train_loss /= len(train_loader)\n",
    "            val_loss /= len(val_loader)\n",
    "            print(f'Epoch {epoch + 1}/{n_epochs}, '\n",
    "                  f'Train Loss: {train_loss:.4f}, Val Loss: {val_loss:.4f}, '\n",
    "                  f'Train Acc: {train_accuracy:.4f}, Val Acc: {val_accuracy:.4f}, '\n",
    "                  f'Train Prec: {train_precision:.4f}, Val Prec: {val_precision:.4f}, '\n",
    "                  f'Train F1: {train_f1:.4f}, Val F1: {val_f1:.4f}')\n",
    "            \n",
    "            # Check for early stopping\n",
    "            if val_loss < best_val_loss:\n",
    "                best_val_loss = val_loss\n",
    "                current_patience = 0\n",
    "            else:\n",
    "                current_patience += 1\n",
    "                if current_patience >= patience:\n",
    "                    print(f'Validation loss did not improve for {patience} epochs. Stopping training.')\n",
    "                    break\n",
    "    \n",
    "    def test(self, test_loader):\n",
    "        self.network.eval()\n",
    "        test_loss = 0.0\n",
    "        correct = 0\n",
    "        all_preds = []\n",
    "        all_targets = []\n",
    "        \n",
    "        # Use tqdm for test progress bar\n",
    "        test_bar = tqdm(test_loader, desc='Testing')\n",
    "        with torch.no_grad():\n",
    "            for data, target in test_bar:\n",
    "                data, target = data.to(self.device), target.to(self.device)\n",
    "                \n",
    "                # Forward pass\n",
    "                outputs = self.network(data)\n",
    "                \n",
    "                # Compute loss\n",
    "                loss = self.compute_loss(outputs, target)\n",
    "                test_loss += loss.item()\n",
    "                \n",
    "                # Gather predictions and true labels for accuracy/metrics calculation\n",
    "                preds = outputs.argmax(dim=1)\n",
    "                all_preds.append(preds)\n",
    "                all_targets.append(target)\n",
    "                \n",
    "                # Update progress bar with test loss and accuracy\n",
    "                accuracy, _, _ = self.compute_metrics(torch.cat(all_preds), torch.cat(all_targets))\n",
    "                test_bar.set_postfix(loss=test_loss / len(test_loader), accuracy=accuracy)\n",
    "\n",
    "        # Calculate final test metrics\n",
    "        all_preds = torch.cat(all_preds)\n",
    "        all_targets = torch.cat(all_targets)\n",
    "        accuracy, precision, f1 = self.compute_metrics(all_preds, all_targets)\n",
    "\n",
    "        test_loss /= len(test_loader)\n",
    "        print(f'Test Loss: {test_loss:.4f}, Accuracy: {accuracy:.2f}%, Precision: {precision:.2f}, F1 Score: {f1:.2f}')\n",
    "        \n",
    "# Define transformation for the images\n",
    "transform = transforms.Compose([\n",
    "    transforms.ToTensor(),            # Convert to tensor (1 channel)\n",
    "    transforms.Normalize((0.5), (0.5))  # Normalize for RGB\n",
    "])\n",
    "\n",
    "# Download the EMNIST ByClass dataset\n",
    "emnist_dataset = EMNIST(root='data', split='byclass', train=True, download=True, transform=transform)\n",
    "test_dataset = EMNIST(root='data', split='byclass', train=False, download=True, transform=transform)\n",
    "\n",
    "# Define the sizes for the training and validation sets\n",
    "train_size = int(0.85 * len(emnist_dataset))  # 80% for training\n",
    "val_size = len(emnist_dataset) - train_size   # remaining 20% for validation\n",
    "\n",
    "# Split the dataset into training and validation sets\n",
    "train_dataset, val_dataset = random_split(emnist_dataset, [train_size, val_size])\n",
    "\n",
    "print(f'Training set size: {len(train_dataset)}')\n",
    "print(f'Validation set size: {len(val_dataset)}')\n",
    "print(f'Test set size: {len(test_dataset)}')\n",
    "\n",
    "# Create data loaders\n",
    "train_loader = DataLoader(train_dataset, batch_size=1024, shuffle=True)\n",
    "val_loader = DataLoader(val_dataset, batch_size=1024)\n",
    "test_loader = DataLoader(test_dataset, batch_size=1024)\n",
    "\n",
    "def Arch3_heavy(num_classes):\n",
    "    return DenseNetMod(num_classes=num_classes, growth_rate=24, block_layers=[6, 6])\n",
    "\n",
    "# Initialize the neural network, optimizer, and criterion\n",
    "model = Arch4(num_classes=62)\n",
    "optimizer = optim.Adam(model.parameters(), lr=0.001)\n",
    "criterion = ModifiedCrossEntropyLoss(penalty_weight=0.1)\n",
    "\n",
    "# Create an instance of ImageClassifier\n",
    "classifier = ImageClassifier(model, optimizer, criterion)\n",
    "\n",
    "# Train the classifier\n",
    "classifier.train(train_loader, val_loader, n_epochs=10, patience=3)\n",
    "\n",
    "# Test the classifier\n",
    "classifier.test(test_loader)\n",
    "\n",
    "torch.save(model.state_dict(), 'models/model4.pth')"
   ]
  },
  {
   "cell_type": "code",
   "execution_count": null,
   "metadata": {},
   "outputs": [],
   "source": []
  }
 ],
 "metadata": {
  "kernelspec": {
   "display_name": "dev_test",
   "language": "python",
   "name": "python3"
  },
  "language_info": {
   "codemirror_mode": {
    "name": "ipython",
    "version": 3
   },
   "file_extension": ".py",
   "mimetype": "text/x-python",
   "name": "python",
   "nbconvert_exporter": "python",
   "pygments_lexer": "ipython3",
   "version": "3.10.12"
  }
 },
 "nbformat": 4,
 "nbformat_minor": 2
}
