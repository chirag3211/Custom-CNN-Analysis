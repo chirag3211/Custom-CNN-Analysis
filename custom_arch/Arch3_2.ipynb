{
  "nbformat": 4,
  "nbformat_minor": 0,
  "metadata": {
    "colab": {
      "provenance": [],
      "gpuType": "T4"
    },
    "kernelspec": {
      "name": "python3",
      "display_name": "Python 3"
    },
    "language_info": {
      "name": "python"
    },
    "accelerator": "GPU"
  },
  "cells": [
    {
      "cell_type": "code",
      "source": [
        "import torch\n",
        "import torch.nn as nn\n",
        "\n",
        "class Bottleneck(nn.Module):\n",
        "    def __init__(self, in_channels, growth_rate):\n",
        "        super(Bottleneck, self).__init__()\n",
        "        self.bn1 = nn.BatchNorm2d(in_channels)\n",
        "        self.conv1 = nn.Conv2d(in_channels, 4 * growth_rate, kernel_size=1, bias=False)\n",
        "        self.bn2 = nn.BatchNorm2d(4 * growth_rate)\n",
        "        self.conv2 = nn.Conv2d(4 * growth_rate, growth_rate, kernel_size=3, padding=1, bias=False)\n",
        "\n",
        "    def forward(self, x):\n",
        "        out = self.conv1(torch.relu(self.bn1(x)))\n",
        "        out = self.conv2(torch.relu(self.bn2(out)))\n",
        "        out = torch.cat([x, out], 1)\n",
        "        return out\n",
        "\n",
        "class Transition(nn.Module):\n",
        "    def __init__(self, in_channels, out_channels):\n",
        "        super(Transition, self).__init__()\n",
        "        self.bn = nn.BatchNorm2d(in_channels)\n",
        "        self.conv = nn.Conv2d(in_channels, out_channels, kernel_size=1, bias=False)\n",
        "        self.pool = nn.AvgPool2d(2)\n",
        "\n",
        "    def forward(self, x):\n",
        "        out = self.conv(torch.relu(self.bn(x)))\n",
        "        out = self.pool(out)\n",
        "        return out\n",
        "\n",
        "class DenseNetMod(nn.Module):\n",
        "    def __init__(self, num_classes=62, growth_rate=24, block_layers=[6, 6]):\n",
        "        super(DenseNetMod, self).__init__()\n",
        "        self.growth_rate = growth_rate\n",
        "        num_planes = 2 * growth_rate  # Starting number of planes\n",
        "\n",
        "        # Initial convolution layer\n",
        "        self.conv1 = nn.Conv2d(1, num_planes, kernel_size=3, padding=1, bias=False)\n",
        "\n",
        "        # Dense Block 1\n",
        "        self.block1 = self._make_dense_layers(Bottleneck, num_planes, block_layers[0])\n",
        "        num_planes += block_layers[0] * growth_rate\n",
        "        self.trans1 = Transition(num_planes, num_planes // 2)\n",
        "        num_planes = num_planes // 2\n",
        "\n",
        "        # Dense Block 2\n",
        "        self.block2 = self._make_dense_layers(Bottleneck, num_planes, block_layers[1])\n",
        "        num_planes += block_layers[1] * growth_rate\n",
        "        self.trans2 = Transition(num_planes, num_planes // 2)\n",
        "        num_planes = num_planes // 2\n",
        "\n",
        "        # Global average pooling and fully connected layer\n",
        "        self.bn = nn.BatchNorm2d(num_planes)\n",
        "        self.fc = nn.Linear(num_planes, num_classes)\n",
        "\n",
        "    def _make_dense_layers(self, block, in_channels, nblock):\n",
        "        layers = []\n",
        "        for i in range(nblock):\n",
        "            layers.append(block(in_channels, self.growth_rate))\n",
        "            in_channels += self.growth_rate\n",
        "        return nn.Sequential(*layers)\n",
        "\n",
        "    def forward(self, x):\n",
        "        out = self.conv1(x)\n",
        "        out = self.block1(out)\n",
        "        out = self.trans1(out)\n",
        "        out = self.block2(out)\n",
        "        out = self.trans2(out)\n",
        "        out = torch.relu(self.bn(out))\n",
        "        out = torch.nn.functional.adaptive_avg_pool2d(out, (1, 1))\n",
        "        out = out.view(out.size(0), -1)\n",
        "        out = self.fc(out)\n",
        "        return out"
      ],
      "metadata": {
        "id": "vlMy-LH0xGqQ"
      },
      "execution_count": null,
      "outputs": []
    },
    {
      "cell_type": "code",
      "execution_count": null,
      "metadata": {
        "colab": {
          "base_uri": "https://localhost:8080/"
        },
        "id": "KC_asVSEvXHN",
        "outputId": "68c65792-8f7c-4c88-9e79-b52b03930719"
      },
      "outputs": [
        {
          "output_type": "stream",
          "name": "stdout",
          "text": [
            "Training set size: 593242\n",
            "Validation set size: 104690\n",
            "Test set size: 116323\n"
          ]
        },
        {
          "output_type": "stream",
          "name": "stderr",
          "text": [
            "Training Epoch 1: 100%|██████████| 580/580 [13:01<00:00,  1.35s/it, accuracy=0.773, loss=0.884]\n",
            "Validating: 100%|██████████| 103/103 [00:54<00:00,  1.91it/s, accuracy=0.847, val_loss=0.479]\n"
          ]
        },
        {
          "output_type": "stream",
          "name": "stdout",
          "text": [
            "Epoch 1/10, Train Loss: 0.8844, Val Loss: 0.4786, Train Acc: 0.7728, Val Acc: 0.8474, Train Prec: 0.7557, Val Prec: 0.8244, Train F1: 0.7446, Val F1: 0.8277\n"
          ]
        },
        {
          "output_type": "stream",
          "name": "stderr",
          "text": [
            "Training Epoch 2: 100%|██████████| 580/580 [12:59<00:00,  1.34s/it, accuracy=0.86, loss=0.419]\n",
            "Validating: 100%|██████████| 103/103 [00:53<00:00,  1.91it/s, accuracy=0.863, val_loss=0.407]\n"
          ]
        },
        {
          "output_type": "stream",
          "name": "stdout",
          "text": [
            "Epoch 2/10, Train Loss: 0.4189, Val Loss: 0.4069, Train Acc: 0.8602, Val Acc: 0.8626, Train Prec: 0.8415, Val Prec: 0.8473, Train F1: 0.8420, Val F1: 0.8431\n"
          ]
        },
        {
          "output_type": "stream",
          "name": "stderr",
          "text": [
            "Training Epoch 3: 100%|██████████| 580/580 [12:57<00:00,  1.34s/it, accuracy=0.867, loss=0.391]\n",
            "Validating: 100%|██████████| 103/103 [00:53<00:00,  1.92it/s, accuracy=0.863, val_loss=0.402]\n"
          ]
        },
        {
          "output_type": "stream",
          "name": "stdout",
          "text": [
            "Epoch 3/10, Train Loss: 0.3906, Val Loss: 0.4016, Train Acc: 0.8667, Val Acc: 0.8627, Train Prec: 0.8530, Val Prec: 0.8474, Train F1: 0.8508, Val F1: 0.8483\n"
          ]
        },
        {
          "output_type": "stream",
          "name": "stderr",
          "text": [
            "Training Epoch 4: 100%|██████████| 580/580 [12:58<00:00,  1.34s/it, accuracy=0.871, loss=0.376]\n",
            "Validating: 100%|██████████| 103/103 [00:53<00:00,  1.92it/s, accuracy=0.867, val_loss=0.394]\n"
          ]
        },
        {
          "output_type": "stream",
          "name": "stdout",
          "text": [
            "Epoch 4/10, Train Loss: 0.3759, Val Loss: 0.3938, Train Acc: 0.8708, Val Acc: 0.8674, Train Prec: 0.8604, Val Prec: 0.8537, Train F1: 0.8560, Val F1: 0.8511\n"
          ]
        },
        {
          "output_type": "stream",
          "name": "stderr",
          "text": [
            "Training Epoch 5: 100%|██████████| 580/580 [12:55<00:00,  1.34s/it, accuracy=0.873, loss=0.367]\n",
            "Validating: 100%|██████████| 103/103 [00:53<00:00,  1.91it/s, accuracy=0.869, val_loss=0.381]\n"
          ]
        },
        {
          "output_type": "stream",
          "name": "stdout",
          "text": [
            "Epoch 5/10, Train Loss: 0.3671, Val Loss: 0.3810, Train Acc: 0.8731, Val Acc: 0.8691, Train Prec: 0.8644, Val Prec: 0.8602, Train F1: 0.8595, Val F1: 0.8538\n"
          ]
        },
        {
          "output_type": "stream",
          "name": "stderr",
          "text": [
            "Training Epoch 6: 100%|██████████| 580/580 [12:59<00:00,  1.34s/it, accuracy=0.876, loss=0.358]\n",
            "Validating: 100%|██████████| 103/103 [00:53<00:00,  1.92it/s, accuracy=0.869, val_loss=0.385]\n"
          ]
        },
        {
          "output_type": "stream",
          "name": "stdout",
          "text": [
            "Epoch 6/10, Train Loss: 0.3582, Val Loss: 0.3848, Train Acc: 0.8758, Val Acc: 0.8687, Train Prec: 0.8678, Val Prec: 0.8630, Train F1: 0.8628, Val F1: 0.8561\n"
          ]
        },
        {
          "output_type": "stream",
          "name": "stderr",
          "text": [
            "Training Epoch 7: 100%|██████████| 580/580 [12:54<00:00,  1.33s/it, accuracy=0.877, loss=0.353]\n",
            "Validating: 100%|██████████| 103/103 [00:53<00:00,  1.92it/s, accuracy=0.806, val_loss=0.734]\n"
          ]
        },
        {
          "output_type": "stream",
          "name": "stdout",
          "text": [
            "Epoch 7/10, Train Loss: 0.3528, Val Loss: 0.7340, Train Acc: 0.8772, Val Acc: 0.8063, Train Prec: 0.8698, Val Prec: 0.8478, Train F1: 0.8649, Val F1: 0.7833\n"
          ]
        },
        {
          "output_type": "stream",
          "name": "stderr",
          "text": [
            "Training Epoch 8: 100%|██████████| 580/580 [12:57<00:00,  1.34s/it, accuracy=0.879, loss=0.348]\n",
            "Validating: 100%|██████████| 103/103 [00:58<00:00,  1.76it/s, accuracy=0.873, val_loss=0.369]\n"
          ]
        },
        {
          "output_type": "stream",
          "name": "stdout",
          "text": [
            "Epoch 8/10, Train Loss: 0.3480, Val Loss: 0.3691, Train Acc: 0.8788, Val Acc: 0.8731, Train Prec: 0.8719, Val Prec: 0.8681, Train F1: 0.8668, Val F1: 0.8582\n"
          ]
        },
        {
          "output_type": "stream",
          "name": "stderr",
          "text": [
            "Training Epoch 9: 100%|██████████| 580/580 [12:59<00:00,  1.34s/it, accuracy=0.88, loss=0.344]\n",
            "Validating: 100%|██████████| 103/103 [00:54<00:00,  1.91it/s, accuracy=0.868, val_loss=0.383]\n"
          ]
        },
        {
          "output_type": "stream",
          "name": "stdout",
          "text": [
            "Epoch 9/10, Train Loss: 0.3440, Val Loss: 0.3833, Train Acc: 0.8796, Val Acc: 0.8680, Train Prec: 0.8726, Val Prec: 0.8711, Train F1: 0.8680, Val F1: 0.8572\n"
          ]
        },
        {
          "output_type": "stream",
          "name": "stderr",
          "text": [
            "Training Epoch 10: 100%|██████████| 580/580 [12:55<00:00,  1.34s/it, accuracy=0.881, loss=0.34]\n",
            "Validating: 100%|██████████| 103/103 [00:53<00:00,  1.93it/s, accuracy=0.876, val_loss=0.362]\n"
          ]
        },
        {
          "output_type": "stream",
          "name": "stdout",
          "text": [
            "Epoch 10/10, Train Loss: 0.3397, Val Loss: 0.3621, Train Acc: 0.8811, Val Acc: 0.8759, Train Prec: 0.8742, Val Prec: 0.8686, Train F1: 0.8699, Val F1: 0.8650\n"
          ]
        },
        {
          "output_type": "stream",
          "name": "stderr",
          "text": [
            "Testing: 100%|██████████| 114/114 [00:59<00:00,  1.91it/s, accuracy=0.876, loss=0.361]"
          ]
        },
        {
          "output_type": "stream",
          "name": "stdout",
          "text": [
            "Test Loss: 0.3614, Accuracy: 0.88%, Precision: 0.87, F1 Score: 0.87\n"
          ]
        },
        {
          "output_type": "stream",
          "name": "stderr",
          "text": [
            "\n"
          ]
        }
      ],
      "source": [
        "import torch\n",
        "from tqdm import tqdm\n",
        "import torch.nn as nn\n",
        "import torch.optim as optim\n",
        "from torch.utils.data import Dataset, DataLoader\n",
        "import torchvision.models as models\n",
        "from torchvision.models import ResNet18_Weights\n",
        "import torchvision.transforms as transforms\n",
        "from torchvision.datasets import EMNIST\n",
        "from torch.utils.data import random_split\n",
        "from sklearn.metrics import precision_score, f1_score\n",
        "import torch.nn.functional as F\n",
        "\n",
        "class ModifiedCrossEntropyLoss(nn.Module):\n",
        "    def __init__(self, penalty_weight=0.1):\n",
        "        super(ModifiedCrossEntropyLoss, self).__init__()\n",
        "        self.penalty_weight = penalty_weight\n",
        "\n",
        "    def forward(self, inputs, targets):\n",
        "        # Calculate probabilities using softmax\n",
        "        probs = F.softmax(inputs, dim=1)  # Get probabilities from raw logits\n",
        "\n",
        "        # Standard cross-entropy loss for the true class\n",
        "        loss_ce = torch.log(probs[range(targets.size(0)), targets] + 1e-12).mean()\n",
        "\n",
        "        # Calculate the penalty for all classes except the true class\n",
        "        penalty = self.penalty_weight * (torch.sum(torch.log(1 - probs + 1e-12), dim=1) -\n",
        "                                          torch.log(1 - probs[range(targets.size(0)), targets] + 1e-12))\n",
        "\n",
        "        # Final loss\n",
        "        total_loss = loss_ce + penalty.mean()\n",
        "        return -total_loss\n",
        "\n",
        "class ImageClassifier:\n",
        "    def __init__(self, network, optimizer, criterion, l2_lambda=0.01):\n",
        "        self.network = network\n",
        "        self.optimizer = optimizer\n",
        "        self.criterion = criterion\n",
        "        self.l2_lambda = l2_lambda\n",
        "        self.device = torch.device('cuda' if torch.cuda.is_available() else 'cpu')\n",
        "        self.network.to(self.device)\n",
        "\n",
        "    def _regularize(self, network, l2_lambda):\n",
        "        # Compute L2 regularization\n",
        "        l2_reg = 0.0\n",
        "        for param in network.parameters():\n",
        "            l2_reg += torch.norm(param, 2)\n",
        "        return l2_lambda * l2_reg\n",
        "\n",
        "    def compute_loss(self, outputs, targets, l2_lambda=0.01, regularize = False):\n",
        "        # Compute the cross-entropy loss\n",
        "        ce_loss = self.criterion(outputs, targets)\n",
        "\n",
        "        if regularize:\n",
        "            # Compute regularization loss\n",
        "            l2_reg = self._regularize(self.network, l2_lambda)\n",
        "\n",
        "            return ce_loss + l2_reg\n",
        "\n",
        "        return ce_loss\n",
        "\n",
        "    def compute_metrics(self, preds, targets):\n",
        "        \"\"\"Helper function to compute accuracy, precision, and F1 score.\"\"\"\n",
        "        # Ensure preds are already in label form (if not already converted)\n",
        "        if preds.dim() > 1:  # Check if preds need reduction\n",
        "            preds = preds.argmax(dim=1)  # Get the predicted labels\n",
        "\n",
        "        preds = preds.cpu().numpy()  # Convert predictions to NumPy\n",
        "        targets = targets.cpu().numpy()  # Convert true labels to NumPy\n",
        "\n",
        "        # Compute accuracy\n",
        "        accuracy = (preds == targets).mean()\n",
        "\n",
        "        # Compute precision and F1 score using scikit-learn\n",
        "        precision = precision_score(targets, preds, average='weighted', zero_division=0)\n",
        "        f1 = f1_score(targets, preds, average='weighted')\n",
        "\n",
        "        return accuracy, precision, f1\n",
        "\n",
        "    def train(self, train_loader, val_loader, n_epochs=10, patience=3):\n",
        "        best_val_loss = float('inf')\n",
        "        current_patience = 0\n",
        "\n",
        "        for epoch in range(n_epochs):\n",
        "            # Train\n",
        "            self.network.train()\n",
        "            train_loss = 0.0\n",
        "            all_preds = []\n",
        "            all_targets = []\n",
        "\n",
        "            # Use tqdm for progress bar and set dynamic description\n",
        "            train_bar = tqdm(enumerate(train_loader), total=len(train_loader), desc=f'Training Epoch {epoch + 1}')\n",
        "            for batch_idx, (data, target) in train_bar:\n",
        "                data, target = data.to(self.device), target.to(self.device)\n",
        "                self.optimizer.zero_grad()\n",
        "\n",
        "                # Forward pass\n",
        "                outputs = self.network(data)\n",
        "\n",
        "                # Compute loss\n",
        "                loss = self.compute_loss(outputs, target)\n",
        "                loss.backward()\n",
        "                self.optimizer.step()\n",
        "\n",
        "                train_loss += loss.item()\n",
        "\n",
        "                # Gather predictions and true labels for accuracy/metrics calculation\n",
        "                preds = outputs.argmax(dim=1)\n",
        "                all_preds.append(preds)\n",
        "                all_targets.append(target)\n",
        "\n",
        "                # Update progress bar with loss and accuracy\n",
        "                current_accuracy, _, _ = self.compute_metrics(torch.cat(all_preds), torch.cat(all_targets))\n",
        "                train_bar.set_postfix(loss=train_loss / (batch_idx + 1), accuracy=current_accuracy)\n",
        "\n",
        "            # Calculate final metrics for training\n",
        "            all_preds = torch.cat(all_preds)\n",
        "            all_targets = torch.cat(all_targets)\n",
        "            train_accuracy, train_precision, train_f1 = self.compute_metrics(all_preds, all_targets)\n",
        "\n",
        "            # Validate\n",
        "            self.network.eval()\n",
        "            val_loss = 0.0\n",
        "            val_preds = []\n",
        "            val_targets = []\n",
        "\n",
        "            # Use tqdm for validation progress bar\n",
        "            val_bar = tqdm(val_loader, desc='Validating')\n",
        "            with torch.no_grad():\n",
        "                for data, target in val_bar:\n",
        "                    data, target = data.to(self.device), target.to(self.device)\n",
        "\n",
        "                    # Forward pass\n",
        "                    outputs = self.network(data)\n",
        "\n",
        "                    # Compute loss\n",
        "                    loss = self.compute_loss(outputs, target)\n",
        "                    val_loss += loss.item()\n",
        "\n",
        "                    # Gather predictions and true labels\n",
        "                    preds = outputs.argmax(dim=1)\n",
        "                    val_preds.append(preds)\n",
        "                    val_targets.append(target)\n",
        "\n",
        "                    # Update progress bar with validation loss and accuracy\n",
        "                    val_accuracy, _, _ = self.compute_metrics(torch.cat(val_preds), torch.cat(val_targets))\n",
        "                    val_bar.set_postfix(val_loss=val_loss / len(val_loader), accuracy=val_accuracy)\n",
        "\n",
        "            # Calculate final validation metrics\n",
        "            val_preds = torch.cat(val_preds)\n",
        "            val_targets = torch.cat(val_targets)\n",
        "            val_accuracy, val_precision, val_f1 = self.compute_metrics(val_preds, val_targets)\n",
        "\n",
        "            # Print epoch statistics\n",
        "            train_loss /= len(train_loader)\n",
        "            val_loss /= len(val_loader)\n",
        "            print(f'Epoch {epoch + 1}/{n_epochs}, '\n",
        "                  f'Train Loss: {train_loss:.4f}, Val Loss: {val_loss:.4f}, '\n",
        "                  f'Train Acc: {train_accuracy:.4f}, Val Acc: {val_accuracy:.4f}, '\n",
        "                  f'Train Prec: {train_precision:.4f}, Val Prec: {val_precision:.4f}, '\n",
        "                  f'Train F1: {train_f1:.4f}, Val F1: {val_f1:.4f}')\n",
        "\n",
        "            # Check for early stopping\n",
        "            if val_loss < best_val_loss:\n",
        "                best_val_loss = val_loss\n",
        "                current_patience = 0\n",
        "            else:\n",
        "                current_patience += 1\n",
        "                if current_patience >= patience:\n",
        "                    print(f'Validation loss did not improve for {patience} epochs. Stopping training.')\n",
        "                    break\n",
        "\n",
        "    def test(self, test_loader):\n",
        "        self.network.eval()\n",
        "        test_loss = 0.0\n",
        "        correct = 0\n",
        "        all_preds = []\n",
        "        all_targets = []\n",
        "\n",
        "        # Use tqdm for test progress bar\n",
        "        test_bar = tqdm(test_loader, desc='Testing')\n",
        "        with torch.no_grad():\n",
        "            for data, target in test_bar:\n",
        "                data, target = data.to(self.device), target.to(self.device)\n",
        "\n",
        "                # Forward pass\n",
        "                outputs = self.network(data)\n",
        "\n",
        "                # Compute loss\n",
        "                loss = self.compute_loss(outputs, target)\n",
        "                test_loss += loss.item()\n",
        "\n",
        "                # Gather predictions and true labels for accuracy/metrics calculation\n",
        "                preds = outputs.argmax(dim=1)\n",
        "                all_preds.append(preds)\n",
        "                all_targets.append(target)\n",
        "\n",
        "                # Update progress bar with test loss and accuracy\n",
        "                accuracy, _, _ = self.compute_metrics(torch.cat(all_preds), torch.cat(all_targets))\n",
        "                test_bar.set_postfix(loss=test_loss / len(test_loader), accuracy=accuracy)\n",
        "\n",
        "        # Calculate final test metrics\n",
        "        all_preds = torch.cat(all_preds)\n",
        "        all_targets = torch.cat(all_targets)\n",
        "        accuracy, precision, f1 = self.compute_metrics(all_preds, all_targets)\n",
        "\n",
        "        test_loss /= len(test_loader)\n",
        "        print(f'Test Loss: {test_loss:.4f}, Accuracy: {accuracy:.2f}%, Precision: {precision:.2f}, F1 Score: {f1:.2f}')\n",
        "\n",
        "# Define transformation for the images\n",
        "transform = transforms.Compose([\n",
        "    transforms.ToTensor(),            # Convert to tensor (1 channel)\n",
        "    transforms.Normalize((0.5), (0.5))  # Normalize for RGB\n",
        "])\n",
        "\n",
        "# Download the EMNIST ByClass dataset\n",
        "emnist_dataset = EMNIST(root='data', split='byclass', train=True, download=True, transform=transform)\n",
        "test_dataset = EMNIST(root='data', split='byclass', train=False, download=True, transform=transform)\n",
        "\n",
        "# Define the sizes for the training and validation sets\n",
        "train_size = int(0.85 * len(emnist_dataset))  # 80% for training\n",
        "val_size = len(emnist_dataset) - train_size   # remaining 20% for validation\n",
        "\n",
        "# Split the dataset into training and validation sets\n",
        "train_dataset, val_dataset = random_split(emnist_dataset, [train_size, val_size])\n",
        "\n",
        "print(f'Training set size: {len(train_dataset)}')\n",
        "print(f'Validation set size: {len(val_dataset)}')\n",
        "print(f'Test set size: {len(test_dataset)}')\n",
        "\n",
        "# Create data loaders\n",
        "train_loader = DataLoader(train_dataset, batch_size=1024, shuffle=True)\n",
        "val_loader = DataLoader(val_dataset, batch_size=1024)\n",
        "test_loader = DataLoader(test_dataset, batch_size=1024)\n",
        "\n",
        "def Arch3_heavy(num_classes):\n",
        "    return DenseNetMod(num_classes=num_classes, growth_rate=24, block_layers=[6, 6])\n",
        "\n",
        "# Initialize the neural network, optimizer, and criterion\n",
        "model = Arch3_heavy(num_classes=62)\n",
        "optimizer = optim.Adam(model.parameters(), lr=0.001)\n",
        "criterion = ModifiedCrossEntropyLoss(penalty_weight=0.1)\n",
        "\n",
        "# Create an instance of ImageClassifier\n",
        "classifier = ImageClassifier(model, optimizer, criterion)\n",
        "\n",
        "# Train the classifier\n",
        "classifier.train(train_loader, val_loader, n_epochs=10, patience=3)\n",
        "\n",
        "# Test the classifier\n",
        "classifier.test(test_loader)\n",
        "\n",
        "torch.save(model.state_dict(), 'model3_2.pth')"
      ]
    },
    {
      "cell_type": "code",
      "source": [],
      "metadata": {
        "id": "5YBkLgI1xP8B"
      },
      "execution_count": null,
      "outputs": []
    }
  ]
}